{
 "cells": [
  {
   "cell_type": "code",
   "execution_count": 1,
   "metadata": {},
   "outputs": [],
   "source": [
    "import networkx as nx\n",
    "import matplotlib.pyplot as plt\n",
    "import numpy as np"
   ]
  },
  {
   "cell_type": "markdown",
   "metadata": {},
   "source": [
    "## Exercise 2.3\n",
    "\n",
    "In the implementation of ``reachable_nodes``, there seems to be an apparent inefficiency of adding *all* neighbors to the stack without checking whether they are already in ``seen``. \n",
    "\n",
    "The original code, written below, adds all neighbors without checking whether they are already in ``seen``:\n",
    "\n",
    "~~~python\n",
    "def reachable_nodes(G, start):\n",
    "    seen = set() #initially, the set is empty\n",
    "    stack = [start] #initially, the stack has one element, start\n",
    "    while stack:\n",
    "        node = stack.pop() #remove one node from the stack\n",
    "        if node not in seen: #if node is not on seen, \n",
    "            seen.add(node)  #(1) add nodes to seen\n",
    "            stack.extend(G.neighbors(node))#(2) add neighbors to the stack\n",
    "    return seen #when the stack is empty, return seen\n",
    "~~~\n",
    "\n",
    "We write a version of this function that checks the neighbors before adding them to the stack. "
   ]
  },
  {
   "cell_type": "code",
   "execution_count": 2,
   "metadata": {},
   "outputs": [],
   "source": [
    "def reachable_nodes(G, start):\n",
    "    seen = set() #initially, the set is empty\n",
    "    stack = [start] #initially, the stack has one element, start\n",
    "    while stack:\n",
    "        node = stack.pop() #remove one node from the stack\n",
    "        if node not in seen: #if node is not on seen, \n",
    "            seen.add(node)  #(1) add nodes to seen\n",
    "            stack.extend(G.neighbors(node))#(2) add neighbors to the stack\n",
    "    return seen #when the stack is empty, return seen"
   ]
  },
  {
   "cell_type": "code",
   "execution_count": 3,
   "metadata": {},
   "outputs": [],
   "source": [
    "def reachable_nodes_modified(G, start):\n",
    "    seen = set()\n",
    "    stack = [start]\n",
    "    while stack:\n",
    "        node = stack.pop()\n",
    "        if node not in seen:\n",
    "            seen.add(node)\n",
    "            old_neighbors = set(G.neighbors(node))\n",
    "            new_neighbors = old_neighbors.difference(seen)\n",
    "            stack.extend(new_neighbors)\n",
    "    return seen"
   ]
  },
  {
   "cell_type": "code",
   "execution_count": 4,
   "metadata": {},
   "outputs": [
    {
     "name": "stdout",
     "output_type": "stream",
     "text": [
      "{0, 1, 2, 3, 4, 5, 6, 7, 8, 9, 10, 11, 12, 13, 14, 15, 16, 17, 18, 19, 20, 21, 22, 23, 24, 25, 26, 27, 28, 29, 30, 31, 32, 33, 34, 35, 36, 37, 38, 39, 40, 41, 42, 43, 44, 45, 46, 47, 48, 49, 50, 51, 52, 53, 54, 55, 56, 57, 58, 59, 60, 61, 62, 63, 64, 65, 66, 67, 68, 69, 70, 71, 72, 73, 74, 75, 76, 77, 78, 79, 80, 81, 82, 83, 84, 85, 86, 87, 88, 89, 90, 91, 92, 93, 94, 95, 96, 97, 98, 99}\n",
      "{0, 1, 2, 3, 4, 5, 6, 7, 8, 9, 10, 11, 12, 13, 14, 15, 16, 17, 18, 19, 20, 21, 22, 23, 24, 25, 26, 27, 28, 29, 30, 31, 32, 33, 34, 35, 36, 37, 38, 39, 40, 41, 42, 43, 44, 45, 46, 47, 48, 49, 50, 51, 52, 53, 54, 55, 56, 57, 58, 59, 60, 61, 62, 63, 64, 65, 66, 67, 68, 69, 70, 71, 72, 73, 74, 75, 76, 77, 78, 79, 80, 81, 82, 83, 84, 85, 86, 87, 88, 89, 90, 91, 92, 93, 94, 95, 96, 97, 98, 99}\n"
     ]
    }
   ],
   "source": [
    "def all_pairs(nodes):\n",
    "    for i, u in enumerate(nodes):\n",
    "        for j, v in enumerate(nodes):\n",
    "            if i>j:\n",
    "                yield u, v\n",
    "                \n",
    "def make_complete_graph(n): #n is the number of nodes\n",
    "    G = nx.Graph()\n",
    "    nodes = range(n) #not sure if xrange can also be used here\n",
    "    G.add_nodes_from(nodes)\n",
    "    G.add_edges_from(all_pairs(nodes))\n",
    "    return G\n",
    "\n",
    "some_graph = make_complete_graph(100)\n",
    "print(reachable_nodes(some_graph, 5))\n",
    "print(reachable_nodes_modified(some_graph, 5))"
   ]
  },
  {
   "cell_type": "markdown",
   "metadata": {},
   "source": [
    "In the modified code, we used the function ``old_neighbors.difference(seen)``, which basically removes all elements from the set ``old_neighbors`` that are in ``seen``. The function effectively does what was expected. We have checked if the modified function will give the same output by constructing a complete graph and running the two codes on the same graph.\n",
    "\n",
    "We also analyze the code given, and we determine whether the modification made the code faster. "
   ]
  },
  {
   "cell_type": "code",
   "execution_count": 5,
   "metadata": {},
   "outputs": [
    {
     "name": "stdout",
     "output_type": "stream",
     "text": [
      "The time it takes for reachable_nodes_time(some_graph, 5) to run is 0.0010476 seconds\n",
      "The time it takes for reachable_nodes_modified_time(some_graph, 5) to run is 0.0009677 seconds\n"
     ]
    }
   ],
   "source": [
    "import time\n",
    "\n",
    "def reachable_nodes_time(G, start):\n",
    "    t_initial = time.perf_counter_ns()\n",
    "    seen = set() #initially, the set is empty\n",
    "    stack = [start] #initially, the stack has one element, start\n",
    "    while stack:\n",
    "        node = stack.pop() #remove one node from the stack\n",
    "        if node not in seen: #if node is not on seen, \n",
    "            seen.add(node)  #(1) add nodes to seen\n",
    "            stack.extend(G.neighbors(node))#(2) add neighbors to the stack\n",
    "    t_final = time.perf_counter_ns()\n",
    "    return seen, (t_final-t_initial)/(1*10**(9)) #when the stack is empty, return seen\n",
    "\n",
    "def reachable_nodes_modified_time(G, start):\n",
    "    t_initial = time.perf_counter_ns()\n",
    "    seen = set()\n",
    "    stack = [start]\n",
    "    while stack:\n",
    "        node = stack.pop()\n",
    "        if node not in seen:\n",
    "            seen.add(node)\n",
    "            old_neighbors = set(G.neighbors(node))\n",
    "            new_neighbors = old_neighbors.difference(seen)\n",
    "            stack.extend(new_neighbors)\n",
    "    t_final = time.perf_counter_ns()\n",
    "    return seen, (t_final-t_initial)/(1*10**(9))\n",
    "\n",
    "print(\"The time it takes for reachable_nodes_time(some_graph, 5) to run is\", reachable_nodes_time(some_graph, 5)[1], \"seconds\")\n",
    "print(\"The time it takes for reachable_nodes_modified_time(some_graph, 5) to run is\", reachable_nodes_modified_time(some_graph, 5)[1], \"seconds\")"
   ]
  },
  {
   "cell_type": "markdown",
   "metadata": {},
   "source": [
    "In the above cell, we modified the functions we had earlier by adding time functions before and after the execution of the code. To do so, we used the function ``time.perf_counter_ns()`` to obtain a precise measure of the total time in ns. Then, we obtained the difference between the start and end times of the code, and then converted it to seconds. \n",
    "\n",
    "From our analysis, it appears that the modified function, ``reachable_nodes_modified``, is faster than the original code ``reachable_nodes``. "
   ]
  }
 ],
 "metadata": {
  "kernelspec": {
   "display_name": "Python 3",
   "language": "python",
   "name": "python3"
  },
  "language_info": {
   "codemirror_mode": {
    "name": "ipython",
    "version": 3
   },
   "file_extension": ".py",
   "mimetype": "text/x-python",
   "name": "python",
   "nbconvert_exporter": "python",
   "pygments_lexer": "ipython3",
   "version": "3.8.3"
  }
 },
 "nbformat": 4,
 "nbformat_minor": 4
}
