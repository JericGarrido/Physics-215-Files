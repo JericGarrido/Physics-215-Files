{
 "cells": [
  {
   "cell_type": "markdown",
   "metadata": {},
   "source": [
    "## Exercise 2.2\n",
    "\n",
    "In Section 2.8 we analyzed the performance of ``reachable_nodes`` and classified it as $O(n+m)$, where $n$ is the number of nodes and $m$ is the number of edges. Continuing the analysis, what is the order of growth for ``is_connected``?\n",
    "\n",
    "~~~python\n",
    "def is_connected(G):\n",
    "    start = list(G)[0]\n",
    "    reachable = reachable_nodes(G, start)\n",
    "    return len_reachable == len(G)\n",
    "~~~\n",
    "\n",
    "**Solution**:\n",
    "\n",
    "Note that defining the function and writing the initial element of a list is constant in time. So the first two lines of the code are constant in time. Calling the ``reachable_nodes`` is also constant in time, but as shown is Section 2.8, the ``reachable_nodes`` function is of the order $O(n+m)$. Finally, as said in ThinkPython 2nd Ed., then ``len(G)`` operation is also constant in time (It was said that ``len`` is one of the exceptions, for most string and tuple operations are constant in time). Hence, the ``is_connected(G)`` function runs to the order $O(n+m)$."
   ]
  },
  {
   "cell_type": "code",
   "execution_count": null,
   "metadata": {},
   "outputs": [],
   "source": []
  }
 ],
 "metadata": {
  "kernelspec": {
   "display_name": "Python 3",
   "language": "python",
   "name": "python3"
  },
  "language_info": {
   "codemirror_mode": {
    "name": "ipython",
    "version": 3
   },
   "file_extension": ".py",
   "mimetype": "text/x-python",
   "name": "python",
   "nbconvert_exporter": "python",
   "pygments_lexer": "ipython3",
   "version": "3.8.3"
  }
 },
 "nbformat": 4,
 "nbformat_minor": 4
}
