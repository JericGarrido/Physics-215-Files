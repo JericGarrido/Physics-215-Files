{
 "cells": [
  {
   "cell_type": "markdown",
   "metadata": {},
   "source": [
    "# Exercise 4.1\n",
    "\n",
    "\n",
    "\n",
    "In Section 4.8 of the book, two expanations for the small world phenomena were explored: \"weak ties\" and \"hubs\". We look into these two explanations and give a criticism on whether they are compatible with each other. \n",
    "\n",
    "In his paper \"*Objectivity, Value Judgment, and Theory Choice*\", Thomas Kuhn has presented a way of choosing among competing models. We consider his paper in comparing the two models.\n",
    "\n",
    "\n",
    "**Solution:**\n",
    "\n",
    "In the book, two competing models have been used to explain small-world phenomena in social networks. The Watts-Strogatz (WS) model suggests that social networks are small because they include both strongly-connected clusters and \"weak ties\" that connect these clusters. However, the Barabasi-Albert (BA) model suggests that social networks are small because they include nodes with high degree that act as hubs, and that hubs grow, over time, due to preferential attachment.\n",
    "\n",
    "We can compare the two competing models using Kuhn's *Theory of Choice*. In his paper, \"*Objectivity, Value Judgment, and Theory Choice*\", Kuhn has given five characteristics of a good scientific theory, which are the following:\n",
    "\n",
    "*    **Accuracy**, that is, the theory should be in agreement with the results of existing experiments and observations;\n",
    "*    **Consistency**, that is, the theory must be consistent on itself and with other accepted theories;\n",
    "*    **Broadness in Scope**, that is, the consequences of the theory should extend far beyond the particular observation laws;\n",
    "*    **Simplicity**, that is, the theory must bring order to phenomena that in its absence would be individually isolated; and\n",
    "*    **Fruitfulness**, that is, a theory should disclose new phenomena or previously unnoted relationships among those already known.\n",
    "\n",
    "I believe these five criteria are sufficient in critiquing the two models we want to compare.\n",
    "\n",
    "In terms of accuracy, each of the two models offer valid explanations on the phenomena. However, the issue of the WS model is that the predicted standard deviation of the degree distribution is much larger than that of the Facebook data set. This means that the heavy-tailed behavior of the Facebook data set is not observed in the WS model. On the other hand, the heavy-tail distribution is more apparent in the Barabasi-Albert model.\n",
    "\n",
    "When we look at the average clustering $C$, the WS model predicts the average clustering more accurately of the Facebook data set than the BA model. Thus the small world phenomena can be predicted more accurately by the WS model than the BA model. \n",
    "\n",
    "In other words, the WS model is correct in the average clustering of the FB network but is not able to predict its heavy-tail distribution. On the other hand, the BA model is correct in the distribution being heavily-tailed but is too good to be a small world network. \n",
    "\n",
    "The two models are both simple in a way that they explain the behavior of the Facebook data set in the simplest way possible. \n",
    "\n",
    "To test which model is more plausible, we need to relate them with other more established theories. A possible route for this is that we need to know how people interact on social media. This means we should look at the sociology and psychology of social media communication. For the case of Facebook data, we need to look at how someone becomes friends with another user, or whether an individual already knows the person he wants to be online friends with. \n",
    "\n",
    "While we can get insight from analysis of the behavior of each individual, the challenge with this approach is that just like in any field of complexity science, \"the whole is not simply the sum of its parts\". Hence, the interaction of a group of individuals is much more important than the individual himself. That would be a limitation to the test between two competing models.\n",
    "\n",
    "We also need to determine what factors affect this apparent small world behavior in social media networks. These parameters may modify the occurrence of this phenomena. By controlling these variables, we can look which model can be more accurate in explaining FB data set.\n",
    "\n",
    "Since we want our theories to be broad in scope, we also need to check other sociological networks, without being limited to internet social networks. These data sets include the set of people who personally know each other, or even interactions among communicating animals. A good model must be applicable in as many physical situations as possible.\n",
    "\n",
    "I believe that they are both fruitful since more research is devoted in understanding the behaviors of these networks, and the discipline is growing more than ever. Using these models two explain real-world phenomena is a good indication that the models have been useful in disclosing new relationships among already-known ideas. \n",
    "\n",
    "On a more personal note, I am more inclined to believe the Watts-Strogatz model since for ordinary people, it is more normal to have friends we know personally. Consequently, the distribution of the social media network becomes strongly connected clusters since mutual friends have more tendency to become friends.  \n",
    "\n",
    "This does not mean however that they are incompatible with each other. The Barabasi-Albert model can also explain the evolution of these social networks. I want to look at the WS model as a \"static model\", whereas the BA model as a \"dynamic model\". The BA model explains how these hubs develop and grow. Preferential attachment can be seen in the way we choose our friends in social media. It is more probable to be friends with people we have mutual friends with we want to share some commonality with the friends we have. In general, people do not explore larger, more unfamiliar groups simply because we do not know much about these groups.\n",
    "\n",
    "In conclusion, the two models are compatible since the WS model explain the Facebook data set in its current form, but the BA model gives a plausible explanation how we did arrive on the given distribution. We see the accuracy and simplicity of the to models, but we cannot deny the limitations to the correctness of the two models. The fruitfulness of the two models are apparent because the research on these models are still on-going, and hence more knowledge can still be gained based on these two models. Finally, more data must be obtained to establish the universality and consistency of each models, both in themselves, and in other more established theories.\n"
   ]
  }
 ],
 "metadata": {
  "kernelspec": {
   "display_name": "Python 3",
   "language": "python",
   "name": "python3"
  },
  "language_info": {
   "codemirror_mode": {
    "name": "ipython",
    "version": 3
   },
   "file_extension": ".py",
   "mimetype": "text/x-python",
   "name": "python",
   "nbconvert_exporter": "python",
   "pygments_lexer": "ipython3",
   "version": "3.8.3"
  }
 },
 "nbformat": 4,
 "nbformat_minor": 4
}
